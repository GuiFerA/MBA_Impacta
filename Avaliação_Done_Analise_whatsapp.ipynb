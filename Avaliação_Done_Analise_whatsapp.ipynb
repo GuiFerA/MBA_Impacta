{
  "nbformat": 4,
  "nbformat_minor": 0,
  "metadata": {
    "kernelspec": {
      "display_name": "Python 3",
      "language": "python",
      "name": "python3"
    },
    "language_info": {
      "codemirror_mode": {
        "name": "ipython",
        "version": 3
      },
      "file_extension": ".py",
      "mimetype": "text/x-python",
      "name": "python",
      "nbconvert_exporter": "python",
      "pygments_lexer": "ipython3",
      "version": "3.7.4"
    },
    "colab": {
      "name": "Avaliação_Done_Analise_whatsapp.ipynb",
      "provenance": [],
      "include_colab_link": true
    }
  },
  "cells": [
    {
      "cell_type": "markdown",
      "metadata": {
        "id": "view-in-github",
        "colab_type": "text"
      },
      "source": [
        "<a href=\"https://colab.research.google.com/github/GuiFerA/MBA_Impacta/blob/main/Avalia%C3%A7%C3%A3o_Done_Analise_whatsapp.ipynb\" target=\"_parent\"><img src=\"https://colab.research.google.com/assets/colab-badge.svg\" alt=\"Open In Colab\"/></a>"
      ]
    },
    {
      "cell_type": "code",
      "metadata": {
        "id": "IYE_TJ8xDr0a"
      },
      "source": [
        "#enconding=utf"
      ],
      "execution_count": 1,
      "outputs": []
    },
    {
      "cell_type": "code",
      "metadata": {
        "id": "V3Q-XORIDr0b"
      },
      "source": [
        "#bibliotca para formatar data.\n",
        "import datetime\n",
        "#\n",
        "from collections import Counter\n",
        "#\n",
        "import collections\n",
        "#\n",
        "import pandas as pd\n",
        "#\n",
        "import matplotlib\n",
        "import matplotlib.pyplot as plt\n",
        "import seaborn as sns"
      ],
      "execution_count": 2,
      "outputs": []
    },
    {
      "cell_type": "markdown",
      "metadata": {
        "id": "om_5LXpNDr0c"
      },
      "source": [
        "Estudo para formatação de dados. </br>\n",
        "\n",
        "link: https://stackabuse.com/converting-strings-to-datetime-in-python/ </br>\n",
        "\n",
        "\n",
        "\n",
        "%Y: Year (4 digits) <br/>\n",
        "%m: Month<br/>\n",
        "%d: Day of month<br/>\n",
        "%H: Hour (24 hour)<br/>\n",
        "%M: Minutes<br/>\n",
        "%S: Seconds<br/>\n",
        "%f: Microseconds<br/>"
      ]
    },
    {
      "cell_type": "code",
      "metadata": {
        "id": "B-Jouhz1HzJc"
      },
      "source": [
        "ref_arquivo = open('zapdata_fernandes.txt', \"r\", encoding='utf-8')\n",
        "linha = ref_arquivo.readline()"
      ],
      "execution_count": 5,
      "outputs": []
    },
    {
      "cell_type": "code",
      "metadata": {
        "colab": {
          "base_uri": "https://localhost:8080/"
        },
        "id": "BnIxTYgbIQ95",
        "outputId": "59bef907-6d47-4526-e927-56b6e4a955d6"
      },
      "source": [
        "print(linha)"
      ],
      "execution_count": 6,
      "outputs": [
        {
          "output_type": "stream",
          "text": [
            "30/03/2020 00:18 - As mensagens e as chamadas são protegidas com a criptografia de ponta a ponta e ficam somente entre você e os participantes desta conversa. Nem mesmo o WhatsApp pode ler ou ouvi-las. Toque para saber mais.\n",
            "\n"
          ],
          "name": "stdout"
        }
      ]
    },
    {
      "cell_type": "code",
      "metadata": {
        "id": "FIQwxvACDr0c"
      },
      "source": [
        "msg1 = \"30/03/2020 01:21 - +55 84 9205-6640: olá Guga, tudo bem sim! e você, como está?\""
      ],
      "execution_count": 7,
      "outputs": []
    },
    {
      "cell_type": "code",
      "metadata": {
        "colab": {
          "base_uri": "https://localhost:8080/"
        },
        "id": "bogN8eHlDr0c",
        "outputId": "84ee395d-1731-431d-e85a-2a9b041f367f"
      },
      "source": [
        "msg1[19:].split(\":\")"
      ],
      "execution_count": 8,
      "outputs": [
        {
          "output_type": "execute_result",
          "data": {
            "text/plain": [
              "['+55 84 9205-6640', ' olá Guga, tudo bem sim! e você, como está?']"
            ]
          },
          "metadata": {
            "tags": []
          },
          "execution_count": 8
        }
      ]
    },
    {
      "cell_type": "code",
      "metadata": {
        "colab": {
          "base_uri": "https://localhost:8080/"
        },
        "id": "6Jzd6yFpMcfS",
        "outputId": "26f28cc9-1e8a-46fd-cadd-f5d26e382e3c"
      },
      "source": [
        "num = linha[0:2]\n",
        "if not num.isdigit():\n",
        "    print(\"Nan\")\n",
        "print(num)\n"
      ],
      "execution_count": null,
      "outputs": [
        {
          "output_type": "stream",
          "text": [
            "Nan\n",
            "30/\n"
          ],
          "name": "stdout"
        }
      ]
    },
    {
      "cell_type": "markdown",
      "metadata": {
        "id": "IJCk9mTlneIF"
      },
      "source": [
        "Tentando isolar a data, mas no Android não tem \"[]\" para isolar o carimbo da data. Teoricamente qualquer linha que comece com dígito pode ser confundida com data."
      ]
    },
    {
      "cell_type": "markdown",
      "metadata": {
        "id": "B7VpFI6bLZNG"
      },
      "source": [
        "Processando a busca"
      ]
    },
    {
      "cell_type": "code",
      "metadata": {
        "id": "cMFVVqWuLXtJ"
      },
      "source": [
        "from datetime import datetime\n",
        "import calendar\n",
        "from pathlib import Path\n",
        "from collections import Counter\n",
        "import collections\n",
        "\n",
        "chat = open('zapdata_fernandes.txt', 'rt', newline='\\n', encoding='utf8')\n",
        "\n",
        "data_t, hora_t, palavras = [], [], []\n",
        "\n",
        "for linha in chat:\n",
        "  num = linha[0:2]\n",
        "  if num.isdigit():\n",
        "    try:\n",
        "      data_t.append(calendar.day_name[datetime.strptime(str(linha[:10]), '%d/%m/%Y').weekday()])\n",
        "      hora_t.append(linha[11:16])\n",
        "      palavras.append(linha[linha.find(': ')+2:].replace('\\n','').split(' '))\n",
        "    except:\n",
        "      pass\n",
        "  else:\n",
        "    palavras.append(linha[linha.find(': ')+2:].replace('\\n','').split(' '))\n",
        "\n",
        "palavras = [ j for i in palavras for j in i]\n",
        "\n",
        "for p in palavras:\n",
        "    if len(p) < 2:\n",
        "        palavras.remove(p)\n",
        "\n",
        "\n",
        "\n"
      ],
      "execution_count": 32,
      "outputs": []
    },
    {
      "cell_type": "code",
      "metadata": {
        "colab": {
          "base_uri": "https://localhost:8080/"
        },
        "id": "WSsJ18j9es_R",
        "outputId": "b9770708-76e7-44b5-8545-2c5d0868e901"
      },
      "source": [
        "#print(data_t)\n",
        "#print(frase)\n",
        "#print(palavras)\n",
        "\n",
        "print(Counter(palavras).most_common()[1])\n",
        "#print(palavras)\n",
        "\n",
        "print(Counter(data_t).most_common()[1]) # dia da semana mais comum\n",
        "#print(data_t)\n",
        "\n",
        "print(Counter(hora_t).most_common()[1]) # mais comum\n",
        "#print(hora_t)\n",
        "\n",
        "print(Counter(hora_t).most_common()[-1]) # menos comum\n",
        "#print(hora_t)"
      ],
      "execution_count": 34,
      "outputs": [
        {
          "output_type": "stream",
          "text": [
            "('mídia', 3084)\n",
            "('Monday', 1614)\n",
            "('20:21', 32)\n",
            "('06:33', 1)\n"
          ],
          "name": "stdout"
        }
      ]
    }
  ]
}