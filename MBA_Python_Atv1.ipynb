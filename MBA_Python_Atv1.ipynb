
/*
Data Science using Python | ATIVIDADE 1

A) Calculadora precisa estar em uma função.
B) A sua função precisa obrigatoriamente receber 3 parametros:
  1. primeiro valor
  2. segundo valor
  3. operação.
  4. As operações são: soma, multiplicar, dividir, subtrair, expoente.

C) Definição, como deve vir o operador: '+' '-' '/' '' '*' ou soma, substração, divisão, exponente.
*/

#Definindo a função
def Calcule(Var1,Oper1,Var2):
  if Oper1 == 'mais':
    print (Var1+Var2)
  elif Oper1 == 'vezes':
    print (Var1*Var2)
  elif Oper1 == 'menos':
    print (Var1-Var2)
  elif (Oper1 == 'dividido' and Var2!=0):
    print (Var1/Var2)
  elif Oper1 == 'elevado':

#Chamada
Calcule(27,'dividido',0)
reveja os parâmetros
